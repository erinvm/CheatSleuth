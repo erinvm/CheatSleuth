{
 "metadata": {
  "language_info": {
   "codemirror_mode": {
    "name": "ipython",
    "version": 3
   },
   "file_extension": ".py",
   "mimetype": "text/x-python",
   "name": "python",
   "nbconvert_exporter": "python",
   "pygments_lexer": "ipython3",
   "version": "3.8.3-final"
  },
  "orig_nbformat": 2,
  "kernelspec": {
   "name": "python3",
   "display_name": "Python 3.8.3 64-bit (conda)",
   "metadata": {
    "interpreter": {
     "hash": "b61a17bdf2fdb948a950b667a8f7c7fbc05f9306d2e23ad5113abab01a803249"
    }
   }
  }
 },
 "nbformat": 4,
 "nbformat_minor": 2,
 "cells": [
  {
   "cell_type": "code",
   "execution_count": null,
   "metadata": {},
   "outputs": [],
   "source": [
    "import pymysql\n",
    "import requests\n",
    "import json"
   ]
  },
  {
   "cell_type": "code",
   "execution_count": null,
   "metadata": {},
   "outputs": [],
   "source": [
    "passes = open(\"pass.txt\", \"r\").read()\n",
    "passes = passes.split(\"\\n\")"
   ]
  },
  {
   "source": [
    "### Take in text document and clean info to get student usernames and login credentials. w"
   ],
   "cell_type": "markdown",
   "metadata": {}
  },
  {
   "cell_type": "code",
   "execution_count": null,
   "metadata": {
    "tags": []
   },
   "outputs": [],
   "source": [
    "stud = passes[::2]\n",
    "new_stud = []\n",
    "for student in stud:\n",
    "    student = student.split('\"')\n",
    "    try:\n",
    "        new_stud.append(student[1])\n",
    "    except:\n",
    "        pass\n",
    "passw = passes[1::2]\n",
    "new_pass = []\n",
    "for line in passw:\n",
    "        new_line = line.split(\" \")\n",
    "        port = int(new_line[4])\n",
    "        passw = f'{new_line[7][2:]}'\n",
    "        creds = [new_line[2], port, passw]\n",
    "        new_pass.append(creds)   "
   ]
  },
  {
   "source": [
    "### Create students dictionary from edited information."
   ],
   "cell_type": "markdown",
   "metadata": {}
  },
  {
   "cell_type": "code",
   "execution_count": null,
   "metadata": {},
   "outputs": [],
   "source": [
    "students = dict(zip(new_stud, new_pass)) "
   ]
  },
  {
   "source": [
    "### Get counts of querys students' midterm query logs. "
   ],
   "cell_type": "markdown",
   "metadata": {}
  },
  {
   "cell_type": "code",
   "execution_count": null,
   "metadata": {},
   "outputs": [],
   "source": [
    "#connect to MYSQL server\n",
    "for key, val in students.items():\n",
    "    try:\n",
    "        con = pymysql.connect(host = val[0], port = val[1], user = 'root', password = val[2], database= 'mysql',                    cursorclass=pymysql.cursors.DictCursor)\n",
    "        print(f\"connected to {key}'s database\")\n",
    "        cur = con.cursor()\n",
    "        print(\"constructing query:\")\n",
    "        cur.execute(f'select count(1) as Exam_Query_Count from general_log where user_host like \"%{key}%\"and command_type = \"Query\";')\n",
    "        queries = cur.fetchall()\n",
    "        print(queries)\n",
    "        doc = open(\"midterm_query_counts.txt\", \"a+\")\n",
    "        doc.write(f\"{key}, {queries}\\n\")\n",
    "        con.close()\n",
    "    except:\n",
    "        doc = open(\"midterm_query_counts.txt\", \"a+\")\n",
    "        doc.write(f\"{key}, could not open database\\n\")\n",
    "        print(\"encountered an ERROR\")\n",
    "        print(key, val)"
   ]
  },
  {
   "source": [
    "### For student in suspect list, find full query log. "
   ],
   "cell_type": "markdown",
   "metadata": {}
  },
  {
   "cell_type": "code",
   "execution_count": null,
   "metadata": {
    "tags": []
   },
   "outputs": [],
   "source": [
    "suspects = []\n",
    "\n",
    "\n",
    "for key, val in students.items():\n",
    "    if key in final_suspect:\n",
    "        con = pymysql.connect(host = val[0], port = val[1], user = 'root', password = val[2], database= 'mysql',                 cursorclass=pymysql.cursors.DictCursor)\n",
    "        print(f\"connected to {key}'s database\")\n",
    "        cur = con.cursor()\n",
    "        print(\"constructing query:\")\n",
    "        cur.execute(f'select event_time, argument as query from general_log where user_host like \"%{key}%\"and command_type = \"Query\" and day(event_time) in (02, 03);')\n",
    "        for row in cur:\n",
    "            query = f\"{row['event_time']}, {row['query']}\"\n",
    "            doc = open(\"midterm_query_finalsuspect.txt\", \"a+\")\n",
    "            doc.write(f\"{key}, {query}\\n\")\n",
    "        con.close()\n",
    "\n",
    "    else:\n",
    "        pass"
   ]
  },
  {
   "cell_type": "code",
   "execution_count": null,
   "metadata": {},
   "outputs": [],
   "source": []
  }
 ]
}